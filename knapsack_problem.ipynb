{
  "nbformat": 4,
  "nbformat_minor": 0,
  "metadata": {
    "colab": {
      "name": "knapsack_problem.ipynb",
      "provenance": [],
      "collapsed_sections": [
        "8cJrAIjeRvsv",
        "bVD2FpyKzCms"
      ]
    },
    "kernelspec": {
      "name": "python3",
      "display_name": "Python 3"
    }
  },
  "cells": [
    {
      "cell_type": "markdown",
      "metadata": {
        "id": "8cJrAIjeRvsv"
      },
      "source": [
        "# **Knapsack Problem**\n",
        "\n",
        "Performs **OPTIMIZATION** problem for 50 generation:\n",
        "\n",
        "Population management = **Generational model**\n",
        "\n",
        "Representation = **Binary**\n",
        "\n",
        "**Define functions:**\n"
      ]
    },
    {
      "cell_type": "code",
      "metadata": {
        "id": "fSuZ7e-PRsCE"
      },
      "source": [
        "import numpy as np\n",
        "import pandas as pd\n",
        "import random as rd\n",
        "from random import randint\n",
        "import matplotlib.pyplot as plt\n",
        "from tabulate import tabulate\n",
        "\n",
        "num_objects = 10\n",
        "num_population = 8\n",
        "num_generations = 50\n",
        "M = 50\n",
        "start_w = 1\n",
        "end_w = 20\n",
        "start_v = 100\n",
        "end_v = 1000\n",
        "crossover_rate = 0.8\n",
        "mutation_rate = 0.4"
      ],
      "execution_count": null,
      "outputs": []
    },
    {
      "cell_type": "markdown",
      "metadata": {
        "id": "2JelPA3vXvL7"
      },
      "source": [
        "We can define the **fitness function** as follows:\n",
        "\\begin{aligned}\n",
        "\\\\fitness=\\sum_{i=1}^nc_iv_i;\\qquad if\\quad \\sum_{i=1}^nc_iw_i <= M \\\\ \n",
        "fitness=0;\\qquad\\qquad\\qquad\\qquad\\quad otherwise\n",
        "\\end{aligned}\n",
        "Where:\n",
        ">\\begin{align}\n",
        "n = chromosome\\ length\\qquad\\qquad\\qquad\\ \\\\\n",
        "c_i = ith\\ gene\\qquad\\qquad\\qquad\\qquad\\qquad\\quad\\ \\\\\n",
        "v_i = ith\\ value\\qquad\\qquad\\qquad\\qquad\\qquad\\quad\\\\\n",
        "w_i = ith\\ weight\\qquad\\qquad\\qquad\\qquad\\qquad\\ \\\\\n",
        "M = Maximum\\ weight\\ of\\ the\\ bag\\qquad\n",
        "\\end{align}"
      ]
    },
    {
      "cell_type": "code",
      "metadata": {
        "id": "YBhSMG4CsPgD"
      },
      "source": [
        "def fitness_calculation(weight, value, population, M):\n",
        "    fitness = np.empty(population.shape[0])\n",
        "    for i in range(population.shape[0]):\n",
        "        S1 = np.sum(population[i] * value)\n",
        "        S2 = np.sum(population[i] * weight)\n",
        "        if S2 <= M:\n",
        "            fitness[i] = S1\n",
        "        else :\n",
        "            fitness[i] = 0 \n",
        "    return fitness.astype(int)"
      ],
      "execution_count": null,
      "outputs": []
    },
    {
      "cell_type": "markdown",
      "metadata": {
        "id": "Ig3JM-WyvMs3"
      },
      "source": [
        "Parent selection = **Fitness Propotionate Selection**\n",
        "\n",
        "Implementing selection probabilities = **Stuchastic universal sampling**"
      ]
    },
    {
      "cell_type": "code",
      "metadata": {
        "id": "tOd7IPYsvYVB"
      },
      "source": [
        "def selection_fps(fitness, population):\n",
        "    fitness = list(fitness)\n",
        "    parents = np.empty((num_population, population.shape[1]))\n",
        "\n",
        "    prob = expected = actual = [0]*num_population\n",
        "    s_fitness = sum(fitness)\n",
        "    for i in range(num_population):\n",
        "      prob[i] = fitness[i]/s_fitness\n",
        "      expected[i] = prob[i]*num_population\n",
        "      actual[i] = round(expected[i])\n",
        "    \n",
        "    while sum(actual) != num_population:\n",
        "      if sum(actual) > num_population:\n",
        "        idx_nonzero = next((i for i, x in enumerate(actual) if x), None)\n",
        "        actual[idx_nonzero] -= 1\n",
        "      else:\n",
        "        idx_nonzero = next((i for i, x in enumerate(actual) if x), None)\n",
        "        actual[idx_nonzero] += 1\n",
        "    \n",
        "    k = 0\n",
        "    for i in range(num_population):\n",
        "      for j in range(int(actual[i])):\n",
        "        parents[k][:] = population[i][:]\n",
        "        k += 1\n",
        "    return parents.astype(int)"
      ],
      "execution_count": null,
      "outputs": []
    },
    {
      "cell_type": "code",
      "metadata": {
        "id": "M9ipbbIn0rcJ"
      },
      "source": [
        "def selection(fitness, num_parents, population):\n",
        "    fitness = list(fitness)\n",
        "    parents = np.empty((num_parents, population.shape[1]))\n",
        "    for i in range(num_parents):\n",
        "        max_fitness_idx = np.where(fitness == np.max(fitness))\n",
        "        parents[i] = population[max_fitness_idx[0][0]]\n",
        "        fitness[max_fitness_idx[0][0]] = -1000\n",
        "    return parents.astype(int)"
      ],
      "execution_count": null,
      "outputs": []
    },
    {
      "cell_type": "markdown",
      "metadata": {
        "id": "CX0skpem0XqP"
      },
      "source": [
        "Crossover = **One_point crossover**\n",
        "\n",
        "Crossover pobability = 0.8\n"
      ]
    },
    {
      "cell_type": "code",
      "metadata": {
        "id": "gKZ2hx-dK8z5"
      },
      "source": [
        "def crossover(parents2, num_offsprings):\n",
        "    offsprings = np.empty((num_offsprings, parents2.shape[1]))\n",
        "    crossover_point = int(parents2.shape[1]/2)\n",
        "    \n",
        "    i=0\n",
        "    counter_offspring = 0\n",
        "    mylist = list(range(0, parents2.shape[0]))\n",
        "    list_population = rd.sample(mylist, len(mylist))\n",
        "    while (counter_offspring < num_offsprings):\n",
        "      x = rd.random()\n",
        "      if x < crossover_rate:\n",
        "        offsprings[i][0:crossover_point] = parents2[list_population[i]][0:crossover_point]\n",
        "        offsprings[i][crossover_point:] = parents2[list_population[i+1]][crossover_point:]\n",
        "        offsprings[i+1][0:crossover_point] = parents2[list_population[i+1]][0:crossover_point]\n",
        "        offsprings[i+1][crossover_point:] = parents2[list_population[i]][crossover_point:]\n",
        "        counter_offspring += 2\n",
        "        i += 2\n",
        "      else:\n",
        "        offsprings[i][:] = parents2[list_population[i]][:]\n",
        "        offsprings[i+1][:] = parents2[list_population[i+1]][:]\n",
        "        counter_offspring += 2\n",
        "        i += 2\n",
        "    return offsprings.astype(int)"
      ],
      "execution_count": null,
      "outputs": []
    },
    {
      "cell_type": "markdown",
      "metadata": {
        "id": "48v3dmI41Cp4"
      },
      "source": [
        "Mutation = **Bit_flip mutation**\n",
        "\n",
        "Mutation probability = 0.4"
      ]
    },
    {
      "cell_type": "code",
      "metadata": {
        "id": "a-RBnsYH1MPl"
      },
      "source": [
        "def mutation(offsprings):\n",
        "    \n",
        "    for i in range(offsprings.shape[0]):\n",
        "      x = rd.random()\n",
        "      if x < mutation_rate:\n",
        "        random_number = rd.randint(0,7)\n",
        "        if offsprings[i,random_number] == 0 :\n",
        "          offsprings[i,random_number] = 1\n",
        "        else:\n",
        "          offsprings[i,random_number] = 0\n",
        "      else:\n",
        "        pass\n",
        "\n",
        "    return offsprings.astype(int)"
      ],
      "execution_count": null,
      "outputs": []
    },
    {
      "cell_type": "markdown",
      "metadata": {
        "id": "iMaTaxnDkkTT"
      },
      "source": [
        "Convert an integer matrix to string matrix for representation:\n"
      ]
    },
    {
      "cell_type": "code",
      "metadata": {
        "id": "JH6XWHRgkh9I"
      },
      "source": [
        "def convert_to_str(pop):\n",
        "    int_pop = [[0]*num_objects]*num_population\n",
        "    for i in range(len(pop)):\n",
        "      int_pop[i] = pop[i]\n",
        "\n",
        "    dif = num_population-len(pop)\n",
        "    list_obj2 = [2]*num_objects\n",
        "    for i in range(dif):\n",
        "      int_pop[dif+i] = list_obj2\n",
        "\n",
        "    str_pop = [[0]*num_objects]*num_population\n",
        "    for i in range(num_population):\n",
        "      str_obj = \"\"\n",
        "      for j in range(num_objects):\n",
        "        if int_pop[i][j] == 1:\n",
        "          str_obj += \"1\"\n",
        "        elif int_pop[i][j] == 0:\n",
        "          str_obj += \"0\"\n",
        "        else:\n",
        "          str_obj += \"-\"\n",
        "      str_pop[i] = str_obj\n",
        "    return str_pop"
      ],
      "execution_count": null,
      "outputs": []
    },
    {
      "cell_type": "markdown",
      "metadata": {
        "id": "bVD2FpyKzCms"
      },
      "source": [
        "# Initial population & Perform calculations:\n",
        "\n",
        "> Number of objects (gen) = 10\n",
        "\n",
        "> Number of population (chromosume) = 8\n",
        "\n",
        "> Number of generation = 50\n",
        "\n",
        "> M (Maximum weight of the bag) = 50\n",
        "\n",
        "> Range of weights = 1-20\n",
        "\n",
        "> Range of values = 100-1000\n",
        "\n",
        "**First selection (FPS):**"
      ]
    },
    {
      "cell_type": "code",
      "metadata": {
        "id": "PYZsRAAbNNgw"
      },
      "source": [
        "item_number = np.arange(1,num_objects+1)\n",
        "weight = np.random.randint(start_w, end_w, size = num_objects)\n",
        "value = np.random.randint(start_v, end_v, size = num_objects)\n",
        "\n",
        "pop_size = (num_population, item_number.shape[0])\n",
        "initial_population = np.random.randint(2, size = pop_size)\n",
        "initial_population = initial_population.astype(int)"
      ],
      "execution_count": null,
      "outputs": []
    },
    {
      "cell_type": "code",
      "metadata": {
        "id": "Ro9I8XzVeknR",
        "colab": {
          "base_uri": "https://localhost:8080/"
        },
        "outputId": "1806f3bf-cac2-43ee-aa03-e112a0bbfb27"
      },
      "source": [
        "a = np.array([item_number])\n",
        "b = np.array([weight])\n",
        "c = np.array([value])\n",
        "Matrix = np.concatenate((a, b, c))\n",
        "Matrix = [[Matrix[j][i] for j in range(len(Matrix))] for i in range(len(Matrix[0]))]\n",
        "print(tabulate(Matrix, headers=[\"Item num\", \"Weight\", \"Value\"], tablefmt=\"grid\"))"
      ],
      "execution_count": null,
      "outputs": [
        {
          "output_type": "stream",
          "text": [
            "+------------+----------+---------+\n",
            "|   Item num |   Weight |   Value |\n",
            "+============+==========+=========+\n",
            "|          1 |       14 |     337 |\n",
            "+------------+----------+---------+\n",
            "|          2 |       12 |     863 |\n",
            "+------------+----------+---------+\n",
            "|          3 |       16 |     538 |\n",
            "+------------+----------+---------+\n",
            "|          4 |        7 |     821 |\n",
            "+------------+----------+---------+\n",
            "|          5 |       15 |     677 |\n",
            "+------------+----------+---------+\n",
            "|          6 |        8 |     775 |\n",
            "+------------+----------+---------+\n",
            "|          7 |        2 |     915 |\n",
            "+------------+----------+---------+\n",
            "|          8 |        9 |     209 |\n",
            "+------------+----------+---------+\n",
            "|          9 |       18 |     493 |\n",
            "+------------+----------+---------+\n",
            "|         10 |       10 |     572 |\n",
            "+------------+----------+---------+\n"
          ],
          "name": "stdout"
        }
      ]
    },
    {
      "cell_type": "code",
      "metadata": {
        "id": "syf3dofqXalF",
        "colab": {
          "base_uri": "https://localhost:8080/"
        },
        "outputId": "d07a3987-a6ef-4c21-cee0-70ff5ecddd12"
      },
      "source": [
        "population = initial_population\n",
        "\n",
        "population_history, parameters, fitness_history = [], [], []\n",
        "for i in range(num_generations):\n",
        "  fitness = fitness_calculation(weight, value, population, M)\n",
        "  fitness_history.append(fitness)\n",
        "  parents = selection_fps(fitness, population)\n",
        "  offsprings = crossover(parents, num_population)\n",
        "  population = mutation(offsprings)\n",
        "  population_history.append(population)\n",
        "  print(\"\\nGeneration \",i,\" : fitness = \",fitness)\n"
      ],
      "execution_count": null,
      "outputs": [
        {
          "output_type": "stream",
          "text": [
            "\n",
            "Generation  0  : fitness =  [   0    0 1367    0 1507    0 2471 1112]\n",
            "\n",
            "Generation  1  : fitness =  [ 546 2471    0 1507 1556 2471 1321 1933]\n",
            "\n",
            "Generation  2  : fitness =  [ 493 2233  984 2808 2471 2471 3334 1933]\n",
            "\n",
            "Generation  3  : fitness =  [   0    0  775 3629 3148 1556    0 4155]\n",
            "\n",
            "Generation  4  : fitness =  [4155 3148 3240 3420 2471 2714 3240 3148]\n",
            "\n",
            "Generation  5  : fitness =  [4155 2233 3946 3240 1556 3629 3629 2939]\n",
            "\n",
            "Generation  6  : fitness =  [4155 3629 3420 3148    0 2939 3240 4155]\n",
            "\n",
            "Generation  7  : fitness =  [4155 3240 2854 4155 3334 3148 2939    0]\n",
            "\n",
            "Generation  8  : fitness =  [3240 3334 3236 3420 4155 3148 4155 4155]\n",
            "\n",
            "Generation  9  : fitness =  [3292 3946 2419 3292    0 3380 3148 4155]\n",
            "\n",
            "Generation  10  : fitness =  [3946    0 2714 3125 3148 4155 3292    0]\n",
            "\n",
            "Generation  11  : fitness =  [3380 2714 3663    0 2377 4155 2939 3292]\n",
            "\n",
            "Generation  12  : fitness =  [   0 2517 2373 3946 2377 2517 3946    0]\n",
            "\n",
            "Generation  13  : fitness =  [3083 2517 3194 2373 2419 2168 3946 3946]\n",
            "\n",
            "Generation  14  : fitness =  [2517 2939 3380    0 2559 3083 2377 2210]\n",
            "\n",
            "Generation  15  : fitness =  [3380 2377 3031 2517 2517 2210 2373 3125]\n",
            "\n",
            "Generation  16  : fitness =  [2559 2168 2845 3380 3292 2559 3802 2915]\n",
            "\n",
            "Generation  17  : fitness =  [2308 3334 2168    0 3760 2887 3055 2419]\n",
            "\n",
            "Generation  18  : fitness =  [2377 2112 3760 2939 2419 2234 2210 3629]\n",
            "\n",
            "Generation  19  : fitness =  [2070 3802 2939 2234 2377 2419 2505 3334]\n",
            "\n",
            "Generation  20  : fitness =  [3760 1393 2210 2714 3802 2419 1602 2234]\n",
            "\n",
            "Generation  21  : fitness =  [   0 3420 3125 2887 3009 2350 2070 2377]\n",
            "\n",
            "Generation  22  : fitness =  [2112 3760 2419 2800 3420 2714 3125 2645]\n",
            "\n",
            "Generation  23  : fitness =  [2350 3420 2094 3083 3760 3420 2419 2350]\n",
            "\n",
            "Generation  24  : fitness =  [3760 2094 2714 3125 2559 2888 3083 3420]\n",
            "\n",
            "Generation  25  : fitness =  [3760 3125 2234 2419    0 2377 3760 3097]\n",
            "\n",
            "Generation  26  : fitness =  [2915 2025 2845 3240 3760 3125 3663 3194]\n",
            "\n",
            "Generation  27  : fitness =  [3621    0 2025 2845    0 3125 3380 2845]\n",
            "\n",
            "Generation  28  : fitness =  [3380 3380    0 2915 2350 2800 2939 2706]\n",
            "\n",
            "Generation  29  : fitness =  [3240 3523 3946 2234 3171    0 2024 3621]\n",
            "\n",
            "Generation  30  : fitness =  [3171    0 3621 3946 3380 2234 2233 3031]\n",
            "\n",
            "Generation  31  : fitness =  [3760 2465 3380 2702 3031 3171 3946    0]\n",
            "\n",
            "Generation  32  : fitness =  [3508 2465 2845 3946 2279    0 3946 2562]\n",
            "\n",
            "Generation  33  : fitness =  [   0 2845 3171    0 2465 3946 2025    0]\n",
            "\n",
            "Generation  34  : fitness =  [3946 2465 3946 1487 3946 2256 2845 2845]\n",
            "\n",
            "Generation  35  : fitness =  [3946 2465 3171  781 3031 3760    0    0]\n",
            "\n",
            "Generation  36  : fitness =  [3946 3946    0 2279    0 3946 3031 2308]\n",
            "\n",
            "Generation  37  : fitness =  [3946 3946 3083 3171 3946 3946 2845 3240]\n",
            "\n",
            "Generation  38  : fitness =  [3760 3946 3946 3946 4155 3946 3946 3380]\n",
            "\n",
            "Generation  39  : fitness =  [3083 3946 3031 3194 4155 3946 4155 3125]\n",
            "\n",
            "Generation  40  : fitness =  [3946 3292 4155 3031    0 3946 3760 2559]\n",
            "\n",
            "Generation  41  : fitness =  [2377    0 3125 3380 3946    0    0 3946]\n",
            "\n",
            "Generation  42  : fitness =  [   0 3334 3380 3946 2517 3125 3946 2377]\n",
            "\n",
            "Generation  43  : fitness =  [3380 3240 3125 4155    0    0 3125 2517]\n",
            "\n",
            "Generation  44  : fitness =  [3946 3334 3380 2517    0 3380 3125 2419]\n",
            "\n",
            "Generation  45  : fitness =  [2854    0 3946 3125 2559 3292 3240 2559]\n",
            "\n",
            "Generation  46  : fitness =  [2471 3334 3125    0 2559    0 2854 4155]\n",
            "\n",
            "Generation  47  : fitness =  [2471 4155 3125 3097 2471 2808 3171 3629]\n",
            "\n",
            "Generation  48  : fitness =  [2808 3097 2262 3125 2645 4155    0 2808]\n",
            "\n",
            "Generation  49  : fitness =  [4155    0 3097 2645 3125 1347 3629 3292]\n"
          ],
          "name": "stdout"
        }
      ]
    },
    {
      "cell_type": "code",
      "metadata": {
        "id": "T33pYtfRsdn5",
        "colab": {
          "base_uri": "https://localhost:8080/"
        },
        "outputId": "3133b5ff-59cc-4f19-9f6a-7950e01c65fa"
      },
      "source": [
        "# As an example, we show the latest generations in the table\n",
        "\n",
        "last_pop1 = population_history[num_generations-2]\n",
        "last_pop1 = convert_to_str(last_pop1)\n",
        "\n",
        "last_fitness1 = fitness_history[num_generations-2]\n",
        "\n",
        "last_selection = parents\n",
        "last_selection = convert_to_str(last_selection)\n",
        "\n",
        "last_cross = offsprings\n",
        "last_cross = convert_to_str(last_cross)\n",
        "\n",
        "last_pop2 = population_history[num_generations-1]\n",
        "last_pop2 = convert_to_str(last_pop2)\n",
        "\n",
        "last_fitness2 = fitness_history[num_generations-1]\n",
        "\n",
        "a = np.array([last_pop1])\n",
        "b = np.array([last_fitness1])\n",
        "c = np.array([last_selection])\n",
        "d = np.array([last_cross])\n",
        "e = np.array([last_pop2])\n",
        "f = np.array([last_fitness2])\n",
        "Matrix = np.concatenate((a, b, c, d, e, f))\n",
        "Matrix = [[Matrix[j][i] for j in range(len(Matrix))] for i in range(len(Matrix[0]))]\n",
        "print(tabulate(Matrix, headers=[\"Population\", \"Fitness\", \"Pop selection\", \"Pop crossover\", \"Pop mutation\", \"Final fitness\"], tablefmt=\"grid\"))"
      ],
      "execution_count": null,
      "outputs": [
        {
          "output_type": "stream",
          "text": [
            "+--------------+-----------+-----------------+-----------------+----------------+-----------------+\n",
            "|   Population |   Fitness |   Pop selection |   Pop crossover |   Pop mutation |   Final fitness |\n",
            "+==============+===========+=================+=================+================+=================+\n",
            "|   0101011101 |      2808 |      0101011101 |      1001011001 |     1001011001 |            4155 |\n",
            "+--------------+-----------+-----------------+-----------------+----------------+-----------------+\n",
            "|   1100011101 |      3097 |      0101011101 |      0001011101 |     0001011101 |               0 |\n",
            "+--------------+-----------+-----------------+-----------------+----------------+-----------------+\n",
            "|   0110001101 |      2262 |      0110001101 |      0101011101 |     0101011101 |            3097 |\n",
            "+--------------+-----------+-----------------+-----------------+----------------+-----------------+\n",
            "|   1001001001 |      3125 |      1001001001 |      0101001001 |     0101001001 |            2645 |\n",
            "+--------------+-----------+-----------------+-----------------+----------------+-----------------+\n",
            "|   0100011001 |      2645 |      0100011001 |      1000001101 |     1000001101 |            3125 |\n",
            "+--------------+-----------+-----------------+-----------------+----------------+-----------------+\n",
            "|   0000010001 |      4155 |      0000010001 |      0110010001 |     0110010001 |            1347 |\n",
            "+--------------+-----------+-----------------+-----------------+----------------+-----------------+\n",
            "|   1001011101 |         0 |      1001011101 |      0101001001 |     0101001001 |            3629 |\n",
            "+--------------+-----------+-----------------+-----------------+----------------+-----------------+\n",
            "|   0001011101 |      2808 |      0001011101 |      1001011101 |     1001011101 |            3292 |\n",
            "+--------------+-----------+-----------------+-----------------+----------------+-----------------+\n"
          ],
          "name": "stdout"
        }
      ]
    },
    {
      "cell_type": "code",
      "metadata": {
        "id": "QmGtaAkB2aN7",
        "colab": {
          "base_uri": "https://localhost:8080/",
          "height": 630
        },
        "outputId": "cddf1f0f-92e9-4f74-e271-e2a036cb1a21"
      },
      "source": [
        "print('First generation: \\n{}\\n'.format(initial_population))\n",
        "print('Last generation: \\n{}\\n'.format(population)) \n",
        "fitness_last_gen = fitness_calculation(weight, value, population, M)      \n",
        "max_fitness = np.where(fitness_last_gen == np.max(fitness_last_gen))\n",
        "parameters.append(population[max_fitness[0][0],:])\n",
        "\n",
        "fitness_history_mean = [np.mean(fitness) for fitness in fitness_history]\n",
        "fitness_history_max = [np.max(fitness) for fitness in fitness_history]\n",
        "plt.plot(list(range(num_generations)), fitness_history_mean, label = 'Mean Fitness')\n",
        "plt.plot(list(range(num_generations)), fitness_history_max, label = 'Max Fitness')\n",
        "plt.legend()\n",
        "plt.xlabel('Generations')\n",
        "plt.ylabel('Fitness')\n",
        "plt.show()"
      ],
      "execution_count": null,
      "outputs": [
        {
          "output_type": "stream",
          "text": [
            "First generation: \n",
            "[[1 0 1 0 1 0 0 0 0 1]\n",
            " [0 1 0 1 0 1 1 1 1 1]\n",
            " [1 0 0 1 0 0 0 1 0 0]\n",
            " [1 1 0 1 0 0 1 0 1 1]\n",
            " [1 0 0 0 1 0 0 0 1 0]\n",
            " [1 1 1 1 0 1 1 1 0 1]\n",
            " [0 0 0 0 0 1 1 1 0 1]\n",
            " [1 0 0 0 0 1 0 0 0 0]]\n",
            "\n",
            "Last generation: \n",
            "[[1 0 0 1 0 1 1 0 0 1]\n",
            " [0 0 0 1 0 1 1 1 0 1]\n",
            " [0 1 0 1 0 1 1 1 0 1]\n",
            " [0 1 0 1 0 0 1 0 0 1]\n",
            " [1 0 0 0 0 0 1 1 0 1]\n",
            " [0 1 1 0 0 1 0 0 0 1]\n",
            " [0 1 0 1 0 0 1 0 0 1]\n",
            " [1 0 0 1 0 1 1 1 0 1]]\n",
            "\n"
          ],
          "name": "stdout"
        },
        {
          "output_type": "display_data",
          "data": {
            "image/png": "[encoded data removed]",
            "text/plain": [
              "<Figure size 432x288 with 1 Axes>"
            ]
          },
          "metadata": {
            "tags": [],
            "needs_background": "light"
          }
        },
        {
          "output_type": "stream",
          "text": [
            "(50, 8)\n"
          ],
          "name": "stdout"
        }
      ]
    },
    {
      "cell_type": "markdown",
      "metadata": {
        "id": "n5oa5XO6Wv7u"
      },
      "source": [
        "# Initial population & Perform calculations:\n",
        "\n",
        "> Number of objects (gen) = 10\n",
        "\n",
        "> Number of population (chromosume) = 8\n",
        "\n",
        "> Number of generation = 50\n",
        "\n",
        "> M (Maximum weight of the bag) = 50\n",
        "\n",
        "> Range of weights = 1-20\n",
        "\n",
        "> Range of values = 100-1000\n",
        "\n",
        "**Second selection:**"
      ]
    },
    {
      "cell_type": "code",
      "metadata": {
        "id": "yJDph5rsQxc5"
      },
      "source": [
        "item_number = np.arange(1,num_objects+1)\n",
        "weight = np.random.randint(start_w, end_w, size = num_objects)\n",
        "value = np.random.randint(start_v, end_v, size = num_objects)\n",
        "\n",
        "pop_size = (num_population, item_number.shape[0])\n",
        "initial_population = np.random.randint(2, size = pop_size)\n",
        "initial_population = initial_population.astype(int)\n"
      ],
      "execution_count": null,
      "outputs": []
    },
    {
      "cell_type": "code",
      "metadata": {
        "id": "d_OchFICk_eE",
        "colab": {
          "base_uri": "https://localhost:8080/"
        },
        "outputId": "b5d4ba84-ffe2-4411-b91d-fd0c645854b0"
      },
      "source": [
        "a = np.array([item_number])\n",
        "b = np.array([weight])\n",
        "c = np.array([value])\n",
        "Matrix = np.concatenate((a, b, c))\n",
        "Matrix = [[Matrix[j][i] for j in range(len(Matrix))] for i in range(len(Matrix[0]))]\n",
        "print(tabulate(Matrix, headers=[\"Item num\", \"Weight\", \"Value\"], tablefmt=\"grid\"))"
      ],
      "execution_count": null,
      "outputs": [
        {
          "output_type": "stream",
          "text": [
            "+------------+----------+---------+\n",
            "|   Item num |   Weight |   Value |\n",
            "+============+==========+=========+\n",
            "|          1 |        4 |     789 |\n",
            "+------------+----------+---------+\n",
            "|          2 |        7 |     910 |\n",
            "+------------+----------+---------+\n",
            "|          3 |        3 |     780 |\n",
            "+------------+----------+---------+\n",
            "|          4 |       13 |     460 |\n",
            "+------------+----------+---------+\n",
            "|          5 |        2 |     930 |\n",
            "+------------+----------+---------+\n",
            "|          6 |       17 |     389 |\n",
            "+------------+----------+---------+\n",
            "|          7 |       11 |     947 |\n",
            "+------------+----------+---------+\n",
            "|          8 |        6 |     188 |\n",
            "+------------+----------+---------+\n",
            "|          9 |       13 |     990 |\n",
            "+------------+----------+---------+\n",
            "|         10 |       19 |     286 |\n",
            "+------------+----------+---------+\n"
          ],
          "name": "stdout"
        }
      ]
    },
    {
      "cell_type": "code",
      "metadata": {
        "id": "ygyacJBs4J3B",
        "colab": {
          "base_uri": "https://localhost:8080/"
        },
        "outputId": "682a67bc-d425-465e-ee54-58bcb671abf9"
      },
      "source": [
        "population = initial_population\n",
        "\n",
        "population_history, parameters, fitness_history = [], [], []\n",
        "num_parents = int(num_population/2)\n",
        "num_offsprings = num_population - num_parents\n",
        "for i in range(num_generations):\n",
        "  fitness = fitness_calculation(weight, value, population, M)\n",
        "  fitness_history.append(fitness)\n",
        "  parents = selection(fitness, num_parents, population)\n",
        "  offsprings = crossover(parents, num_offsprings)\n",
        "  mutants = mutation(offsprings)\n",
        "  population[0:parents.shape[0], :] = parents\n",
        "  population[parents.shape[0]:, :] = mutants\n",
        "  population_history.append(population)\n",
        "  print(\"\\nGeneration \",i,\" : fitness = \",fitness)\n"
      ],
      "execution_count": null,
      "outputs": [
        {
          "output_type": "stream",
          "text": [
            "\n",
            "Generation  0  : fitness =  [3277 1240    0    0 1622 2905 3055 1967]\n",
            "\n",
            "Generation  1  : fitness =  [3277 3055 2905 1967    0 1118 2888 2914]\n",
            "\n",
            "Generation  2  : fitness =  [3277 3055 2914 2905 2914 3694 4267  188]\n",
            "\n",
            "Generation  3  : fitness =  [4267 3694 3277 3055 4267 2559 4267 1118]\n",
            "\n",
            "Generation  4  : fitness =  [4267 4267 4267 3694    0 4267 1958    0]\n",
            "\n",
            "Generation  5  : fitness =  [4267 4267 4267 4267 3478 4267 3337    0]\n",
            "\n",
            "Generation  6  : fitness =  [4267 4267 4267 4267 4267 4267 4267 4267]\n",
            "\n",
            "Generation  7  : fitness =  [4267 4267 4267 4267 4267 4267    0    0]\n",
            "\n",
            "Generation  8  : fitness =  [4267 4267 4267 4267 3807 4079 4267 4267]\n",
            "\n",
            "Generation  9  : fitness =  [4267 4267 4267 4267 4267 4267 4079    0]\n",
            "\n",
            "Generation  10  : fitness =  [4267 4267 4267 4267 4267 4267 4267 4267]\n",
            "\n",
            "Generation  11  : fitness =  [4267 4267 4267 4267 4267 3807 3337 4267]\n",
            "\n",
            "Generation  12  : fitness =  [4267 4267 4267 4267    0    0 3337    0]\n",
            "\n",
            "Generation  13  : fitness =  [4267 4267 4267 4267 3337 3478 3337 3357]\n",
            "\n",
            "Generation  14  : fitness =  [4267 4267 4267 4267 3337 4267 4267 3357]\n",
            "\n",
            "Generation  15  : fitness =  [4267 4267 4267 4267 3357 4267    0 4267]\n",
            "\n",
            "Generation  16  : fitness =  [4267 4267 4267 4267    0    0 4267 3478]\n",
            "\n",
            "Generation  17  : fitness =  [4267 4267 4267 4267 4267 3357 4267 4267]\n",
            "\n",
            "Generation  18  : fitness =  [4267 4267 4267 4267 3807 4267 4267 4267]\n",
            "\n",
            "Generation  19  : fitness =  [4267 4267 4267 4267 4267 4267 3478 5047]\n",
            "\n",
            "Generation  20  : fitness =  [5047 4267 4267 4267 4267    0 4267    0]\n",
            "\n",
            "Generation  21  : fitness =  [5047 4267 4267 4267 3337 4267 4117    0]\n",
            "\n",
            "Generation  22  : fitness =  [5047 4267 4267 4267 4267 3357 5047 4267]\n",
            "\n",
            "Generation  23  : fitness =  [5047 5047 4267 4267    0 4258 3357 4079]\n",
            "\n",
            "Generation  24  : fitness =  [5047 5047 4267 4267 3337 5047    0 5047]\n",
            "\n",
            "Generation  25  : fitness =  [5047 5047 5047 5047 5047 5047 4267 5047]\n",
            "\n",
            "Generation  26  : fitness =  [5047 5047 5047 5047 5047 5047 5047 5047]\n",
            "\n",
            "Generation  27  : fitness =  [5047 5047 5047 5047 5047 5047 4137 4587]\n",
            "\n",
            "Generation  28  : fitness =  [5047 5047 5047 5047 5047 4137 5047    0]\n",
            "\n",
            "Generation  29  : fitness =  [5047 5047 5047 5047 4137 5047 4267 5047]\n",
            "\n",
            "Generation  30  : fitness =  [5047 5047 5047 5047 4117 4137 4587 5047]\n",
            "\n",
            "Generation  31  : fitness =  [5047 5047 5047 5047    0 4267 5047 4859]\n",
            "\n",
            "Generation  32  : fitness =  [5047 5047 5047 5047 4267 5047    0 5047]\n",
            "\n",
            "Generation  33  : fitness =  [5047 5047 5047 5047 5047 5047 5047 5047]\n",
            "\n",
            "Generation  34  : fitness =  [5047 5047 5047 5047 5047 4137 5047 4137]\n",
            "\n",
            "Generation  35  : fitness =  [5047 5047 5047 5047 5047 5047 5047 5047]\n",
            "\n",
            "Generation  36  : fitness =  [5047 5047 5047 5047 4137    0 4258 5047]\n",
            "\n",
            "Generation  37  : fitness =  [5047 5047 5047 5047 5047 5047 4267 5047]\n",
            "\n",
            "Generation  38  : fitness =  [5047 5047 5047 5047 4137 5047 5047 5047]\n",
            "\n",
            "Generation  39  : fitness =  [5047 5047 5047 5047 4587 4587 5047 5047]\n",
            "\n",
            "Generation  40  : fitness =  [5047 5047 5047 5047    0    0 5047 5047]\n",
            "\n",
            "Generation  41  : fitness =  [5047 5047 5047 5047 4137 5047 5047 4137]\n",
            "\n",
            "Generation  42  : fitness =  [5047 5047 5047 5047 4587 4137 4137 4137]\n",
            "\n",
            "Generation  43  : fitness =  [5047 5047 5047 5047 5047 5047 5047 4859]\n",
            "\n",
            "Generation  44  : fitness =  [5047 5047 5047 5047 4267 4587 5047 4117]\n",
            "\n",
            "Generation  45  : fitness =  [5047 5047 5047 5047 5047 5047 4267 5047]\n",
            "\n",
            "Generation  46  : fitness =  [5047 5047 5047 5047 5047 5047 5047 4267]\n",
            "\n",
            "Generation  47  : fitness =  [5047 5047 5047 5047 5047 5047 5047 5047]\n",
            "\n",
            "Generation  48  : fitness =  [5047 5047 5047 5047 5047 5047    0 4117]\n",
            "\n",
            "Generation  49  : fitness =  [5047 5047 5047 5047 4267 5047 5047 5047]\n"
          ],
          "name": "stdout"
        }
      ]
    },
    {
      "cell_type": "code",
      "metadata": {
        "id": "Ja72EXsulmRu",
        "colab": {
          "base_uri": "https://localhost:8080/"
        },
        "outputId": "ee65ddc5-4949-4db2-9c83-a2e28be02d53"
      },
      "source": [
        "# As an example, we show the latest generations in the table\n",
        "\n",
        "last_pop1 = population_history[num_generations-2]\n",
        "last_pop1 = convert_to_str(last_pop1)\n",
        "\n",
        "last_fitness1 = fitness_history[num_generations-2]\n",
        "\n",
        "last_selection = parents\n",
        "last_selection = convert_to_str(last_selection)\n",
        "\n",
        "last_cross = offsprings\n",
        "last_cross = convert_to_str(last_cross)\n",
        "\n",
        "last_pop2 = population_history[num_generations-1]\n",
        "last_pop2 = convert_to_str(last_pop2)\n",
        "\n",
        "last_fitness2 = fitness_history[num_generations-1]\n",
        "\n",
        "a = np.array([last_pop1])\n",
        "b = np.array([last_fitness1])\n",
        "c = np.array([last_selection])\n",
        "d = np.array([last_cross])\n",
        "e = np.array([last_pop2])\n",
        "f = np.array([last_fitness2])\n",
        "Matrix = np.concatenate((a, b, c, d, e, f))\n",
        "Matrix = [[Matrix[j][i] for j in range(len(Matrix))] for i in range(len(Matrix[0]))]\n",
        "print(tabulate(Matrix, headers=[\"Population\", \"Fitness\", \"Pop selection\", \"Pop crossover\", \"Pop mutation\", \"Final fitness\"], tablefmt=\"grid\"))"
      ],
      "execution_count": null,
      "outputs": [
        {
          "output_type": "stream",
          "text": [
            "+--------------+-----------+-----------------+-----------------+----------------+-----------------+\n",
            "|   Population |   Fitness | Pop selection   | Pop crossover   |   Pop mutation |   Final fitness |\n",
            "+==============+===========+=================+=================+================+=================+\n",
            "|   1111100110 |      5047 | 1111100110      | 1111110110      |     1111100110 |            5047 |\n",
            "+--------------+-----------+-----------------+-----------------+----------------+-----------------+\n",
            "|   1111100110 |      5047 | 1111100110      | 1111100110      |     1111100110 |            5047 |\n",
            "+--------------+-----------+-----------------+-----------------+----------------+-----------------+\n",
            "|   1111100110 |      5047 | 1111100110      | 0111100110      |     1111100110 |            5047 |\n",
            "+--------------+-----------+-----------------+-----------------+----------------+-----------------+\n",
            "|   1111100110 |      5047 | 1111100110      | 1111110110      |     1111100110 |            5047 |\n",
            "+--------------+-----------+-----------------+-----------------+----------------+-----------------+\n",
            "|   1111110110 |      5047 | ----------      | ----------      |     1111110110 |            4267 |\n",
            "+--------------+-----------+-----------------+-----------------+----------------+-----------------+\n",
            "|   1111100110 |      5047 | ----------      | ----------      |     1111100110 |            5047 |\n",
            "+--------------+-----------+-----------------+-----------------+----------------+-----------------+\n",
            "|   0111100110 |         0 | ----------      | ----------      |     0111100110 |            5047 |\n",
            "+--------------+-----------+-----------------+-----------------+----------------+-----------------+\n",
            "|   1111110110 |      4117 | ----------      | ----------      |     1111110110 |            5047 |\n",
            "+--------------+-----------+-----------------+-----------------+----------------+-----------------+\n"
          ],
          "name": "stdout"
        }
      ]
    },
    {
      "cell_type": "code",
      "metadata": {
        "id": "LHI9wpTb2nj9",
        "colab": {
          "base_uri": "https://localhost:8080/",
          "height": 614
        },
        "outputId": "7bab62f0-2ecd-4e6b-e57d-6f23e3da99f9"
      },
      "source": [
        "print('First generation: \\n{}\\n'.format(initial_population))\n",
        "print('Last generation: \\n{}\\n'.format(population)) \n",
        "fitness_last_gen = fitness_calculation(weight, value, population, M)      \n",
        "max_fitness = np.where(fitness_last_gen == np.max(fitness_last_gen))\n",
        "parameters.append(population[max_fitness[0][0],:])\n",
        "\n",
        "fitness_history_mean = [np.mean(fitness) for fitness in fitness_history]\n",
        "fitness_history_max = [np.max(fitness) for fitness in fitness_history]\n",
        "plt.plot(list(range(num_generations)), fitness_history_mean, label = 'Mean Fitness')\n",
        "plt.plot(list(range(num_generations)), fitness_history_max, label = 'Max Fitness')\n",
        "plt.legend()\n",
        "plt.xlabel('Generations')\n",
        "plt.ylabel('Fitness')\n",
        "plt.show()"
      ],
      "execution_count": null,
      "outputs": [
        {
          "output_type": "stream",
          "text": [
            "First generation: \n",
            "[[1 1 1 1 1 0 0 1 1 0]\n",
            " [1 1 1 1 1 0 0 1 1 0]\n",
            " [1 1 1 1 1 0 0 1 1 0]\n",
            " [1 1 1 1 1 0 0 1 1 0]\n",
            " [1 1 1 1 1 1 0 1 1 0]\n",
            " [1 1 1 1 1 0 0 1 1 0]\n",
            " [0 1 1 1 1 0 0 1 1 0]\n",
            " [1 1 1 1 1 1 0 1 1 0]]\n",
            "\n",
            "Last generation: \n",
            "[[1 1 1 1 1 0 0 1 1 0]\n",
            " [1 1 1 1 1 0 0 1 1 0]\n",
            " [1 1 1 1 1 0 0 1 1 0]\n",
            " [1 1 1 1 1 0 0 1 1 0]\n",
            " [1 1 1 1 1 1 0 1 1 0]\n",
            " [1 1 1 1 1 0 0 1 1 0]\n",
            " [0 1 1 1 1 0 0 1 1 0]\n",
            " [1 1 1 1 1 1 0 1 1 0]]\n",
            "\n"
          ],
          "name": "stdout"
        },
        {
          "output_type": "display_data",
          "data": {
            "image/png": "[encoded data removed]",
            "text/plain": [
              "<Figure size 432x288 with 1 Axes>"
            ]
          },
          "metadata": {
            "tags": [],
            "needs_background": "light"
          }
        }
      ]
    }
  ]
}